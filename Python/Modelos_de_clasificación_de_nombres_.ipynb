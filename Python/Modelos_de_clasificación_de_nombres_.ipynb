{
  "nbformat": 4,
  "nbformat_minor": 0,
  "metadata": {
    "colab": {
      "private_outputs": true,
      "provenance": [],
      "authorship_tag": "ABX9TyP4H5fVxWDuzXNFhOhb5gZp",
      "include_colab_link": true
    },
    "kernelspec": {
      "name": "python3",
      "display_name": "Python 3"
    },
    "language_info": {
      "name": "python"
    }
  },
  "cells": [
    {
      "cell_type": "markdown",
      "metadata": {
        "id": "view-in-github",
        "colab_type": "text"
      },
      "source": [
        "<a href=\"https://colab.research.google.com/github/ThomasPineda/Clasificaci-n_Palabras/blob/main/Python/Modelos_de_clasificaci%C3%B3n_de_nombres_.ipynb\" target=\"_parent\"><img src=\"https://colab.research.google.com/assets/colab-badge.svg\" alt=\"Open In Colab\"/></a>"
      ]
    },
    {
      "cell_type": "markdown",
      "source": [
        "Se importan las librerias necesarias y el corpus de nombres que se va utilizar para el modelo"
      ],
      "metadata": {
        "id": "oKSkaFiKQXrJ"
      }
    },
    {
      "cell_type": "code",
      "execution_count": null,
      "metadata": {
        "id": "A4EaMq93KV6x"
      },
      "outputs": [],
      "source": [
        "import nltk, random\n",
        "nltk.download('names')\n",
        "from nltk.corpus import names"
      ]
    },
    {
      "cell_type": "markdown",
      "source": [
        "Se define una función para extraer atributos a los nombres, en este caso el atributo a extraer será la ultima letra que compone al nombre.\n",
        "\n",
        "También se hará una lista donde tenga el nombre y su respectiva clasificación (male or female) para clasificarlo entre hombre o mujer"
      ],
      "metadata": {
        "id": "M3Tkj8e4QiYV"
      }
    },
    {
      "cell_type": "code",
      "source": [
        "def atributos(palabra):\n",
        "  return {'ultima_letra' : palabra[-1]}\n",
        "tagset = [(name, 'male') for name in names.words('male.txt')] + [(name, 'female') for name in names.words('female.txt')]\n",
        "random.shuffle(tagset)\n",
        "tagset[:10]"
      ],
      "metadata": {
        "id": "XKKckXcwKkuK"
      },
      "execution_count": null,
      "outputs": []
    },
    {
      "cell_type": "markdown",
      "source": [
        "Luego de tener la lista de nombres con su clasificación se procede a sacar sus atributos (última letra del nombre) y añadirlo a una lista para entrarla dentro del algoritmo de clasificación. Por último se divide este en entrenamiento y test para evaluar su desempeño"
      ],
      "metadata": {
        "id": "NZPU93SoREkk"
      }
    },
    {
      "cell_type": "code",
      "source": [
        "fset = [(atributos(n), g) for (n,g) in tagset]\n",
        "train, test = fset[500:], fset[:500]"
      ],
      "metadata": {
        "id": "SiWGagl9LLvZ"
      },
      "execution_count": null,
      "outputs": []
    },
    {
      "cell_type": "code",
      "source": [
        "fset[:10]"
      ],
      "metadata": {
        "id": "xTY3I5lNQ-RD"
      },
      "execution_count": null,
      "outputs": []
    },
    {
      "cell_type": "markdown",
      "source": [
        "Para esta tarea se utiliza el clasificador de Naive Bayes en el conjunto de entrenamiento y procedemos a evaluar su desempeño"
      ],
      "metadata": {
        "id": "SVqMfyguRb4m"
      }
    },
    {
      "cell_type": "code",
      "source": [
        "#modelo de clasificación de Naive Bayes\n",
        "classifier = nltk.NaiveBayesClassifier.train(train)"
      ],
      "metadata": {
        "id": "c0qM7mZaLfem"
      },
      "execution_count": null,
      "outputs": []
    },
    {
      "cell_type": "code",
      "source": [
        "classifier.classify(atributos('amanda'))"
      ],
      "metadata": {
        "id": "zMFgWw1mLstt"
      },
      "execution_count": null,
      "outputs": []
    },
    {
      "cell_type": "code",
      "source": [
        "classifier.classify(atributos('fernando'))"
      ],
      "metadata": {
        "id": "q4JiYHjFMSr5"
      },
      "execution_count": null,
      "outputs": []
    },
    {
      "cell_type": "code",
      "source": [
        "classifier.classify(atributos('Roberto'))"
      ],
      "metadata": {
        "id": "508-vkTlMWS9"
      },
      "execution_count": null,
      "outputs": []
    },
    {
      "cell_type": "markdown",
      "source": [
        "Vemos la proporción de nombres que clasificó correctamente"
      ],
      "metadata": {
        "id": "S9bVBnknRoaq"
      }
    },
    {
      "cell_type": "code",
      "source": [
        "nltk.classify.accuracy(classifier,test)"
      ],
      "metadata": {
        "id": "47Xeb-8cL2Aw"
      },
      "execution_count": null,
      "outputs": []
    },
    {
      "cell_type": "markdown",
      "source": [
        "## Mejorando los atributos"
      ],
      "metadata": {
        "id": "a_RD3GsjMvKo"
      }
    },
    {
      "cell_type": "markdown",
      "source": [
        "Ahora para intentar mejorar el modelo de clasificación se sacarán más atributos de los nombres y con esto extraer más caracteristicas.\n",
        "\n",
        " 1. Se extrae la primer letra del nombre\n",
        " 2. Se extrae la última letra del nombre al igual que en el anterior\n",
        " 3. se cuenta cuantas veces aparecen cada letra del abecedario\n",
        " 4. Se extrae en cada letra del abecedaria si aparece en el nombre o no"
      ],
      "metadata": {
        "id": "bU0h8nHkR59m"
      }
    },
    {
      "cell_type": "code",
      "source": [
        "def mas_atributos(nombre):\n",
        "  atrib = {}\n",
        "  atrib['primera_letra'] = nombre[0].lower()\n",
        "  atrib['ultima_letra'] = nombre[-1].lower()\n",
        "\n",
        "  for letra in 'abcdefghijklmnopqrstuvwxyz':\n",
        "    atrib['count({})'.format(letra)] = nombre.lower().count(letra)\n",
        "    atrib['has({})'.format(letra)] = (letra in nombre.lower())\n",
        "\n",
        "  return atrib"
      ],
      "metadata": {
        "id": "p0UACbvQM4BA"
      },
      "execution_count": null,
      "outputs": []
    },
    {
      "cell_type": "code",
      "source": [
        "mas_atributos('Thomas')"
      ],
      "metadata": {
        "id": "LF8_E8-kOwVE"
      },
      "execution_count": null,
      "outputs": []
    },
    {
      "cell_type": "code",
      "source": [
        "fset = [(mas_atributos(n), g) for (n,g) in tagset]\n",
        "train, test = fset[500:], fset[:500]"
      ],
      "metadata": {
        "id": "tX4XdA8mPCJc"
      },
      "execution_count": null,
      "outputs": []
    },
    {
      "cell_type": "code",
      "source": [
        "classifier2 = nltk.NaiveBayesClassifier.train(train)"
      ],
      "metadata": {
        "id": "LZbYlIzdPXqB"
      },
      "execution_count": null,
      "outputs": []
    },
    {
      "cell_type": "code",
      "source": [
        "classifier2.classify(mas_atributos('Rogelio'))"
      ],
      "metadata": {
        "id": "ZmxtrH0oPeFU"
      },
      "execution_count": null,
      "outputs": []
    },
    {
      "cell_type": "code",
      "source": [
        "classifier2.classify(mas_atributos('Valentina'))"
      ],
      "metadata": {
        "id": "zFxL6aN2P2uJ"
      },
      "execution_count": null,
      "outputs": []
    },
    {
      "cell_type": "code",
      "source": [
        "classifier2.classify(mas_atributos('Valentín'))"
      ],
      "metadata": {
        "id": "-TqLV6W5P6G3"
      },
      "execution_count": null,
      "outputs": []
    },
    {
      "cell_type": "code",
      "source": [
        "nltk.classify.accuracy(classifier2,test)"
      ],
      "metadata": {
        "id": "B_JJlYHfP97c"
      },
      "execution_count": null,
      "outputs": []
    }
  ]
}